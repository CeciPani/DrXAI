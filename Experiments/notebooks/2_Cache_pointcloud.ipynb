{
 "cells": [
  {
   "cell_type": "markdown",
   "metadata": {},
   "source": [
    "# 0) Import, load, etc."
   ]
  },
  {
   "cell_type": "code",
   "execution_count": null,
   "metadata": {},
   "outputs": [],
   "source": [
    "import numpy as np\n",
    "import pandas as pd\n",
    "import matplotlib.pyplot as plt\n",
    "import networkx as nx\n",
    "import time\n",
    "import threading\n",
    "import datetime\n",
    "import multiprocessing as mp\n",
    "from multiprocessing import Process, Manager\n",
    "from itertools import repeat\n",
    "import multiprocessing as mp\n",
    "import os\n",
    "import pprint\n",
    "from magictree import * #tree layout\n",
    "import pickle\n",
    "import sys"
   ]
  },
  {
   "cell_type": "code",
   "execution_count": null,
   "metadata": {},
   "outputs": [],
   "source": [
    "mimic = sorted(np.load('mimic_sequences.npy'))\n",
    "p2p_jaccard = np.load('p2p_jaccard.npy')\n",
    "p2p_wuplus = np.load('p2p_wuplus.npy')"
   ]
  },
  {
   "cell_type": "code",
   "execution_count": null,
   "metadata": {},
   "outputs": [],
   "source": [
    "np.random.seed(100)"
   ]
  },
  {
   "cell_type": "markdown",
   "metadata": {},
   "source": [
    "# 1) Select datapoint"
   ]
  },
  {
   "cell_type": "code",
   "execution_count": null,
   "metadata": {},
   "outputs": [],
   "source": [
    "#2519"
   ]
  },
  {
   "cell_type": "code",
   "execution_count": null,
   "metadata": {},
   "outputs": [],
   "source": [
    "i2e_index = 300#np.random.choice(len(mimic))\n",
    "print(i2e_index)\n",
    "i2e = mimic[i2e_index]\n",
    "print(i2e)"
   ]
  },
  {
   "cell_type": "markdown",
   "metadata": {},
   "source": [
    "# 2) Get k REAL neighbours"
   ]
  },
  {
   "cell_type": "code",
   "execution_count": null,
   "metadata": {},
   "outputs": [],
   "source": [
    "k1 = 50"
   ]
  },
  {
   "cell_type": "code",
   "execution_count": null,
   "metadata": {},
   "outputs": [],
   "source": [
    "def get_closest_datapoints_indexes(start_index,dist_matrix,k):\n",
    "    candidates = sorted(enumerate(dist_matrix[start_index]),key=lambda x:x[1])[:k]\n",
    "    return list(candidates)"
   ]
  },
  {
   "cell_type": "code",
   "execution_count": null,
   "metadata": {},
   "outputs": [],
   "source": [
    "wup_nbh_indx = [el[0] for el in get_closest_datapoints_indexes(i2e_index,p2p_wuplus,k1)] \n",
    "jac_nbh_indx = [el[0] for el in get_closest_datapoints_indexes(i2e_index,p2p_jaccard,k1)] "
   ]
  },
  {
   "cell_type": "markdown",
   "metadata": {},
   "source": [
    "# 3) Flatten"
   ]
  },
  {
   "cell_type": "code",
   "execution_count": null,
   "metadata": {},
   "outputs": [],
   "source": [
    "def flat_dp(dp_index):\n",
    "    codes = list(set([a for b in mimic[dp_index][:-1] for a in b]))\n",
    "    fdp = {}\n",
    "    for c in codes:  \n",
    "        seq = [1 if c in el else 0 for el in mimic[dp_index][:-1][::-1]] #already rev\n",
    "        decay = [1/2**i for i in range(1,len(mimic[dp_index]))]\n",
    "        #print(c,seq,decay,np.multiply(seq,decay),sum(np.multiply(seq,decay)))\n",
    "        fdp[c]=sum(np.multiply(seq,decay))\n",
    "    return fdp\n",
    "        \n",
    "def flat_cloud(kdp):\n",
    "    local_flat = [flat_dp(n) for n in kdp]\n",
    "    all_codes = sorted(list(set([a for b in [list(lf.keys()) for lf in local_flat] for a in b])))\n",
    "    feat_mx = np.full((len(kdp),len(all_codes)),0.)\n",
    "    for row,lf in enumerate(local_flat):\n",
    "        for (k,v) in lf.items():\n",
    "            feat_mx[row][all_codes.index(k)]=v\n",
    "    return feat_mx,all_codes\n",
    "    "
   ]
  },
  {
   "cell_type": "code",
   "execution_count": null,
   "metadata": {},
   "outputs": [],
   "source": [
    "wup_nbh_flat,wup_codes = flat_cloud(wup_nbh_indx)\n",
    "jac_nbh_flat,jac_codes = flat_cloud(jac_nbh_indx)"
   ]
  },
  {
   "cell_type": "markdown",
   "metadata": {},
   "source": [
    "# 4) Make ksyn synthetic datapoints"
   ]
  },
  {
   "cell_type": "code",
   "execution_count": null,
   "metadata": {},
   "outputs": [],
   "source": [
    "k2 = 20"
   ]
  },
  {
   "cell_type": "code",
   "execution_count": null,
   "metadata": {},
   "outputs": [],
   "source": [
    "def perturb(flat_k,points_per_dp=k2):\n",
    "    num_codes = flat_k.shape[1]\n",
    "    feat_mx = np.full((k1*k2,num_codes),0.)\n",
    "    for f in range(num_codes):\n",
    "        feat_mean = np.mean(flat_k[:,f])\n",
    "        feat_std = np.std(flat_k[:,f])\n",
    "        feat_mx[:,f]=np.random.normal(feat_mean,feat_std,k1*k2)\n",
    "    feat_mx[feat_mx<0.]=0.\n",
    "    feat_mx[feat_mx>1.]=1.\n",
    "    return feat_mx"
   ]
  },
  {
   "cell_type": "code",
   "execution_count": null,
   "metadata": {},
   "outputs": [],
   "source": [
    "wup_syn_flat = perturb(wup_nbh_flat)\n",
    "jac_syn_flat = perturb(jac_nbh_flat)"
   ]
  },
  {
   "cell_type": "markdown",
   "metadata": {},
   "source": [
    "# 5) Unflatten"
   ]
  },
  {
   "cell_type": "code",
   "execution_count": null,
   "metadata": {},
   "outputs": [],
   "source": [
    "max_past = max([len(x) for x in mimic])\n",
    "past_mean = np.mean([len(x) for x in mimic])\n",
    "past_std = np.std([len(x) for x in mimic])"
   ]
  },
  {
   "cell_type": "code",
   "execution_count": null,
   "metadata": {},
   "outputs": [],
   "source": [
    "def unflat_cloud(cloud,code_list):\n",
    "    res = []\n",
    "    for dp in cloud: #iterate over synthetic datapoints\n",
    "        dp_mx = np.full((len(code_list),max_past),0) #codes * visits\n",
    "        for col,temp_val in enumerate(dp):\n",
    "            check = .5\n",
    "            for visit_index in range(max_past-1,-1,-1):\n",
    "                if temp_val>=check:\n",
    "                    dp_mx[col,visit_index]=1\n",
    "                    temp_val-=check\n",
    "                check/=2\n",
    "            #dp_mx matrix filled with values\n",
    "        raw_seq = [[code_list[c] for c in range(dp_mx.shape[0]) if dp_mx[c,v]==1] for v in range(dp_mx.shape[1])]#\n",
    "        num_visit = max(1,int(np.ceil(np.random.normal(past_mean,past_std))))\n",
    "        res.append(raw_seq[-num_visit:])\n",
    "    return res"
   ]
  },
  {
   "cell_type": "code",
   "execution_count": null,
   "metadata": {},
   "outputs": [],
   "source": [
    "wup_syn_seq = unflat_cloud(wup_syn_flat,wup_codes)\n",
    "jac_syn_seq = unflat_cloud(jac_syn_flat,jac_codes)"
   ]
  },
  {
   "cell_type": "markdown",
   "metadata": {},
   "source": [
    "# 6) [toy] caching"
   ]
  },
  {
   "cell_type": "code",
   "execution_count": null,
   "metadata": {},
   "outputs": [],
   "source": [
    "mega_dict = {}\n",
    "mega_dict[(i2e_index,'jac')] = (jac_nbh_indx,jac_nbh_flat,jac_syn_flat,jac_syn_seq)\n",
    "mega_dict[(i2e_index,'wup')] = (wup_nbh_indx,wup_nbh_flat,wup_syn_flat,wup_syn_seq)\n",
    "pickle.dump(mega_dict,open('mimic_cache.pkl','wb'),protocol=pickle.HIGHEST_PROTOCOL)"
   ]
  },
  {
   "cell_type": "code",
   "execution_count": null,
   "metadata": {},
   "outputs": [],
   "source": [
    "test = pickle.load(open('mimic_cache.pkl','rb'))\n",
    "print(test.keys())"
   ]
  },
  {
   "cell_type": "markdown",
   "metadata": {},
   "source": [
    "# 7) MEGALOOP"
   ]
  },
  {
   "cell_type": "code",
   "execution_count": null,
   "metadata": {},
   "outputs": [],
   "source": [
    "len(mimic)"
   ]
  },
  {
   "cell_type": "code",
   "execution_count": null,
   "metadata": {},
   "outputs": [],
   "source": [
    "jac_dict = {}\n",
    "wup_dict = {}\n",
    "\n",
    "for indx in range(len(mimic)):\n",
    "    if indx%100==0:\n",
    "        print(indx,time.ctime())\n",
    "    try:\n",
    "        i2e = mimic[indx]\n",
    "        wup_nbh_indx = [el[0] for el in get_closest_datapoints_indexes(indx,p2p_wuplus,k1)] \n",
    "        jac_nbh_indx = [el[0] for el in get_closest_datapoints_indexes(indx,p2p_jaccard,k1)] \n",
    "        wup_nbh_flat,wup_codes = flat_cloud(wup_nbh_indx)\n",
    "        jac_nbh_flat,jac_codes = flat_cloud(jac_nbh_indx)\n",
    "        wup_syn_flat = perturb(wup_nbh_flat)\n",
    "        jac_syn_flat = perturb(jac_nbh_flat)\n",
    "        wup_syn_seq = unflat_cloud(wup_syn_flat,wup_codes)#\n",
    "        jac_syn_seq = unflat_cloud(jac_syn_flat,jac_codes)  \n",
    "        wup_dict[indx] = (wup_nbh_indx,wup_nbh_flat,wup_syn_flat,wup_syn_seq)\n",
    "        jac_dict[indx] = (jac_nbh_indx,jac_nbh_flat,jac_syn_flat,jac_syn_seq)\n",
    "    except Exception as ex:\n",
    "        print('ERROR',indx)"
   ]
  },
  {
   "cell_type": "code",
   "execution_count": null,
   "metadata": {},
   "outputs": [],
   "source": [
    "missed = []\n",
    "for i in range(len(mimic)):\n",
    "    try:\n",
    "        wup_dict[i]\n",
    "        jac_dict[i]\n",
    "    except:\n",
    "        missed.append(i)"
   ]
  },
  {
   "cell_type": "code",
   "execution_count": null,
   "metadata": {},
   "outputs": [],
   "source": [
    "np.array(missed)"
   ]
  },
  {
   "cell_type": "code",
   "execution_count": null,
   "metadata": {},
   "outputs": [],
   "source": [
    "pickle.dump(jac_dict,open('../data/jac_cache_2.pkl','wb'),protocol=pickle.HIGHEST_PROTOCOL)    "
   ]
  },
  {
   "cell_type": "code",
   "execution_count": null,
   "metadata": {},
   "outputs": [],
   "source": [
    "pickle.dump(wup_dict,open('../data/wup_cache_2.pkl','wb'),protocol=pickle.HIGHEST_PROTOCOL)    "
   ]
  },
  {
   "cell_type": "code",
   "execution_count": null,
   "metadata": {},
   "outputs": [],
   "source": [
    "len(list(pickle.load(open('../data/jac_cache_2.pkl','rb')).keys()))"
   ]
  },
  {
   "cell_type": "code",
   "execution_count": null,
   "metadata": {},
   "outputs": [],
   "source": [
    "len(list(pickle.load(open('../data/wup_cache_2.pkl','rb')).keys()))"
   ]
  }
 ],
 "metadata": {
  "kernelspec": {
   "display_name": "Python 3",
   "language": "python",
   "name": "python3"
  },
  "language_info": {
   "codemirror_mode": {
    "name": "ipython",
    "version": 3
   },
   "file_extension": ".py",
   "mimetype": "text/x-python",
   "name": "python",
   "nbconvert_exporter": "python",
   "pygments_lexer": "ipython3",
   "version": "3.6.6"
  }
 },
 "nbformat": 4,
 "nbformat_minor": 2
}
