{
 "cells": [
  {
   "cell_type": "markdown",
   "metadata": {},
   "source": [
    "# Cache MIMIC distances (code, patient)"
   ]
  },
  {
   "cell_type": "code",
   "execution_count": 1,
   "metadata": {},
   "outputs": [],
   "source": [
    "import numpy as np\n",
    "import pandas as pd\n",
    "import matplotlib.pyplot as plt\n",
    "import networkx as nx\n",
    "import time\n",
    "import threading\n",
    "import datetime\n",
    "import multiprocessing as mp\n",
    "from multiprocessing import Process, Manager\n",
    "from itertools import repeat\n",
    "import multiprocessing as mp\n",
    "import os\n",
    "import pprint\n",
    "from magictree import * #tree layout"
   ]
  },
  {
   "cell_type": "code",
   "execution_count": 2,
   "metadata": {},
   "outputs": [],
   "source": [
    "raw = pd.read_csv('ICD9CM.csv')\n",
    "mimic = sorted(np.load('mimic_sequences.npy'))"
   ]
  },
  {
   "cell_type": "code",
   "execution_count": 3,
   "metadata": {},
   "outputs": [],
   "source": [
    "import pickle\n",
    "\n",
    "def pickle_save(obj, name):\n",
    "    with open(name + '.pkl', 'wb') as f:\n",
    "        pickle.dump(obj, f, pickle.HIGHEST_PROTOCOL)\n",
    "\n",
    "def pickle_load(name):\n",
    "    with open(name + '.pkl', 'rb') as f:\n",
    "        return pickle.load(f)"
   ]
  },
  {
   "cell_type": "code",
   "execution_count": 5,
   "metadata": {},
   "outputs": [],
   "source": [
    "#build graphs\n",
    "\n",
    "icd9_G=nx.DiGraph()\n",
    "icd9_G.add_edge('ROOT','owl#Thing')\n",
    "for indx,row in list(raw.iterrows()):\n",
    "    son = row['Class ID'].split('/')[-1]\n",
    "    dad = row['Parents'].split('/')[-1] if isinstance(row['Parents'], str) else 'ROOT'\n",
    "    icd9_G.add_edge(dad,son)\n",
    "icd9_G.add_edge('719.7','719.70')\n",
    "\n",
    "mimic_leaves = sorted(list(set([a for b in [c for d in mimic for c in d] for a in b])))\n",
    "\n",
    "mimic_nodes = []\n",
    "for l in mimic_leaves:\n",
    "    mimic_nodes+=nx.shortest_path(icd9_G,'ROOT',l)\n",
    "mimic_nodes = sorted(list(set(mimic_nodes)))\n",
    "\n",
    "#FATHER->SON\n",
    "mimic_G=nx.DiGraph()\n",
    "for son in mimic_nodes:\n",
    "    if son=='ROOT':\n",
    "        continue\n",
    "    dad = list(icd9_G.in_edges(son))[0][0]\n",
    "    mimic_G.add_edge(dad,son)"
   ]
  },
  {
   "cell_type": "markdown",
   "metadata": {},
   "source": [
    "# Cache code2code dist"
   ]
  },
  {
   "cell_type": "code",
   "execution_count": 6,
   "metadata": {},
   "outputs": [],
   "source": [
    "all_codes = sorted(list(set([a for b in [c for d in mimic for c in d] for a in b])))\n",
    "verbose_mimic_codes = [nx.shortest_path(mimic_G,'ROOT',c) for c in all_codes]\n",
    "\n",
    "#common substring length -> depth of LCA\n",
    "#a1, a2 are PATHS FROM ROOT\n",
    "def wup_chain(a1,a2):\n",
    "    lca = 0\n",
    "    while True:\n",
    "        if lca>=len(a1) or lca>=len(a2) or a1[lca]!=a2[lca]:\n",
    "            break\n",
    "        lca+=1\n",
    "    dr = lca-1\n",
    "    da = len(a1)-lca\n",
    "    db = len(a2)-lca\n",
    "    return((2*dr)/(da+db+2*dr))"
   ]
  },
  {
   "cell_type": "code",
   "execution_count": 7,
   "metadata": {},
   "outputs": [
    {
     "name": "stdout",
     "output_type": "stream",
     "text": [
      "0 100 200 300 400 500 600 700 800 900 1000 1100 1200 1300 1400 1500 1600 1700 1800 1900 2000 2100 2200 2300 2400 2500 2600 2700 2800 2900 3000 3100 3200 3300 3400 3500 3600 3700 3800 3900 4000 4100 4200 4300 4400 4500 4600 4700 4800 "
     ]
    }
   ],
   "source": [
    "c2c_dict = {}\n",
    "for i,v1 in enumerate(verbose_mimic_codes):\n",
    "    if i%100==0:\n",
    "        print(i,end=' ')\n",
    "    for v2 in verbose_mimic_codes:\n",
    "        c2c_dict[(v1[-1],v2[-1])]=wup_chain(v1,v2)"
   ]
  },
  {
   "cell_type": "code",
   "execution_count": 8,
   "metadata": {},
   "outputs": [],
   "source": [
    "pickle_save(c2c_dict,'c2c_dist')"
   ]
  },
  {
   "cell_type": "code",
   "execution_count": 9,
   "metadata": {},
   "outputs": [
    {
     "name": "stdout",
     "output_type": "stream",
     "text": [
      "self-dist? 1.0\n",
      "symmetry? 0.2857142857142857 0.2857142857142857\n",
      "near vs far? 0.6153846153846154 0.16666666666666666\n"
     ]
    }
   ],
   "source": [
    "print('self-dist?',c2c_dict[('228.02','228.02')])\n",
    "print('symmetry?',c2c_dict[('228.02','518.81')],c2c_dict[('518.81','228.02')])\n",
    "print('near vs far?',c2c_dict[('518.81','519.1')],c2c_dict[('518.81','V55.0')])"
   ]
  },
  {
   "cell_type": "markdown",
   "metadata": {},
   "source": [
    "# Distance functions"
   ]
  },
  {
   "cell_type": "code",
   "execution_count": 35,
   "metadata": {},
   "outputs": [],
   "source": [
    "#p2p_dist = {}\n",
    "root = 'ROOT'\n",
    "symbols = [chr(i) for i in range(33,128)]"
   ]
  },
  {
   "cell_type": "code",
   "execution_count": 36,
   "metadata": {},
   "outputs": [],
   "source": [
    "from weighted_levenshtein import lev, osa, dam_lev\n",
    "\n",
    "def wup_visit(graph,v1,v2,verbose=False):\n",
    "    #encode\n",
    "    all_icd9 = sorted(list(set(v1+v2)))\n",
    "    coded_all = [symbols[i] for i in range(len(all_icd9))]\n",
    "    coded_v1 = ''.join([coded_all[all_icd9.index(c)] for c in sorted(v1)])\n",
    "    coded_v2 = ''.join([coded_all[all_icd9.index(c)] for c in sorted(v2)])\n",
    "    encoder = {k:v for (k,v) in zip(all_icd9,coded_all)}\n",
    "    decoder = {v:k for (k,v) in zip(all_icd9,coded_all)}\n",
    "    #raw matrices\n",
    "    icd9_substitute_costs = np.full((128, 128), 1, dtype=np.float64)\n",
    "    icd9_insert_costs = np.full(128, 1, dtype=np.float64)\n",
    "    icd9_delete_costs = np.full(128, 1, dtype=np.float64)\n",
    "    #now, discount for near stuff\n",
    "    for icd9_1 in v1:\n",
    "        for icd9_2 in v2:\n",
    "            indx_1 = ord(encoder[icd9_1])\n",
    "            indx_2 = ord(encoder[icd9_2])\n",
    "            icd9_substitute_costs[indx_1][indx_2] = 1 - c2c_dict[(icd9_1,icd9_2)]\n",
    "            if verbose:\n",
    "                print(icd9_1,'->',icd9_2,': cost',icd9_substitute_costs[indx_1][indx_2])   \n",
    "    #\n",
    "    return lev(coded_v1,coded_v2, substitute_costs=icd9_substitute_costs,\n",
    "         insert_costs=icd9_insert_costs, delete_costs=icd9_delete_costs)"
   ]
  },
  {
   "cell_type": "code",
   "execution_count": 37,
   "metadata": {},
   "outputs": [],
   "source": [
    "def wup_patient(graph, p1, p2):\n",
    "    dtw = np.full((len(p1),len(p2)), 10000, dtype=np.float64)\n",
    "    dtw[0,0] = 0 \n",
    "    for i,v1 in enumerate(p1):\n",
    "        for j,v2 in enumerate(p2):\n",
    "            cost = np.round(wup_visit(graph,v1,v2),3)\n",
    "            in_cost = dtw[i-1,j] if i>0 else 0\n",
    "            del_cost = dtw[i,j-1] if j>0 else 0\n",
    "            edit_cost = dtw[i-1,j-1] if i>0 and j>0 else 0\n",
    "            dtw[i,j] = cost + min(in_cost,del_cost,edit_cost)\n",
    "    return dtw[-1][-1]"
   ]
  },
  {
   "cell_type": "markdown",
   "metadata": {},
   "source": [
    "# Cache patient2patient dist"
   ]
  },
  {
   "cell_type": "code",
   "execution_count": 38,
   "metadata": {},
   "outputs": [],
   "source": [
    "manager = mp.Manager()\n",
    "p2p_dict = manager.dict()\n",
    "max_dict = int((len(mimic)**2 - len(mimic))/2)"
   ]
  },
  {
   "cell_type": "code",
   "execution_count": 39,
   "metadata": {},
   "outputs": [],
   "source": [
    "#each slave manages ONE SINGLE PATIENT\n",
    "def slave(i):\n",
    "    for j,p in enumerate(mimic):\n",
    "        if j>i:\n",
    "            p2p_dict[(i,j)]=wup_patient(icd9_G,mimic[i],mimic[j])\n",
    "    if i%100==0:\n",
    "        print(str(i),end='\\n')\n",
    "\n",
    "def distrib_tasks(num_parallel):\n",
    "    start = time.time() \n",
    "    # created multicore pool running \n",
    "    pool = mp.Pool(num_parallel)\n",
    "    # Execute the folding task in parallel\n",
    "    for i,e in enumerate(mimic):\n",
    "        pool.apply_async(slave, args=([i]))\n",
    "        #monitor\n",
    "    # Tell the pool that there are no more tasks to come and join\n",
    "    pool.close()\n",
    "    pool.join()\n",
    "    #\n",
    "    print()\n",
    "    print(time.time()-start)"
   ]
  },
  {
   "cell_type": "code",
   "execution_count": 40,
   "metadata": {},
   "outputs": [
    {
     "name": "stdout",
     "output_type": "stream",
     "text": [
      "0\n",
      "100\n",
      "200\n",
      "300\n",
      "400\n",
      "500\n",
      "600\n",
      "700\n",
      "800\n",
      "900\n",
      "1000\n",
      "1100\n",
      "1200\n",
      "1300\n",
      "1400\n",
      "1500\n",
      "1600\n",
      "1700\n",
      "1800\n",
      "1900\n",
      "2000\n",
      "2100\n",
      "2200\n",
      "2300\n",
      "2400\n",
      "2500\n",
      "2600\n",
      "2700\n",
      "2800\n",
      "2900\n",
      "3000\n",
      "3100\n",
      "3200\n",
      "3300\n",
      "3400\n",
      "3500\n",
      "3600\n",
      "3700\n",
      "3800\n",
      "3900\n",
      "4000\n",
      "4100\n",
      "4200\n",
      "4300\n",
      "4400\n",
      "4500\n",
      "4600\n",
      "4700\n",
      "4800\n",
      "4900\n",
      "5000\n",
      "5100\n",
      "5200\n",
      "5300\n",
      "5400\n",
      "5500\n",
      "5600\n",
      "5700\n",
      "5800\n",
      "5900\n",
      "6000\n",
      "6100\n",
      "6200\n",
      "6300\n",
      "6400\n",
      "6500\n",
      "6600\n",
      "6700\n",
      "6800\n",
      "6900\n",
      "7000\n",
      "7100\n",
      "7200\n",
      "7300\n",
      "7400\n",
      "\n",
      "3715.7348160743713\n"
     ]
    }
   ],
   "source": [
    "distrib_tasks(num_parallel=80) #parallelise"
   ]
  },
  {
   "cell_type": "code",
   "execution_count": 41,
   "metadata": {},
   "outputs": [],
   "source": [
    "pickle_save(dict(p2p_dict), 'p2p_holy_2')"
   ]
  },
  {
   "cell_type": "markdown",
   "metadata": {},
   "source": [
    "# minitest"
   ]
  },
  {
   "cell_type": "code",
   "execution_count": 53,
   "metadata": {},
   "outputs": [],
   "source": [
    "p2p_dict = pickle_load('p2p_holy_2')"
   ]
  },
  {
   "cell_type": "code",
   "execution_count": 54,
   "metadata": {},
   "outputs": [
    {
     "data": {
      "text/plain": [
       "[['V30.00', 'V05.3'], ['774.6']]"
      ]
     },
     "execution_count": 54,
     "metadata": {},
     "output_type": "execute_result"
    }
   ],
   "source": [
    "mimic[7330]"
   ]
  },
  {
   "cell_type": "code",
   "execution_count": 55,
   "metadata": {},
   "outputs": [
    {
     "data": {
      "text/plain": [
       "[['431', '530.81'], ['228.02']]"
      ]
     },
     "execution_count": 55,
     "metadata": {},
     "output_type": "execute_result"
    }
   ],
   "source": [
    "mimic[3670]"
   ]
  },
  {
   "cell_type": "code",
   "execution_count": 56,
   "metadata": {},
   "outputs": [
    {
     "data": {
      "text/plain": [
       "2.328"
      ]
     },
     "execution_count": 56,
     "metadata": {},
     "output_type": "execute_result"
    }
   ],
   "source": [
    "wup_patient(icd9_G,mimic[7330],mimic[3670])"
   ]
  },
  {
   "cell_type": "code",
   "execution_count": 57,
   "metadata": {},
   "outputs": [
    {
     "data": {
      "text/plain": [
       "2.328"
      ]
     },
     "execution_count": 57,
     "metadata": {},
     "output_type": "execute_result"
    }
   ],
   "source": [
    "p2p_dict[(3670,7330)]"
   ]
  },
  {
   "cell_type": "code",
   "execution_count": null,
   "metadata": {},
   "outputs": [],
   "source": []
  }
 ],
 "metadata": {
  "kernelspec": {
   "display_name": "Python 3",
   "language": "python",
   "name": "python3"
  },
  "language_info": {
   "codemirror_mode": {
    "name": "ipython",
    "version": 3
   },
   "file_extension": ".py",
   "mimetype": "text/x-python",
   "name": "python",
   "nbconvert_exporter": "python",
   "pygments_lexer": "ipython3",
   "version": "3.6.5"
  }
 },
 "nbformat": 4,
 "nbformat_minor": 2
}
