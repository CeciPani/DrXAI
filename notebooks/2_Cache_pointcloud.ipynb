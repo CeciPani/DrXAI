{
 "cells": [
  {
   "cell_type": "markdown",
   "metadata": {},
   "source": [
    "# 0) Import, load, etc."
   ]
  },
  {
   "cell_type": "code",
   "execution_count": 1,
   "metadata": {},
   "outputs": [],
   "source": [
    "import numpy as np\n",
    "import pandas as pd\n",
    "import matplotlib.pyplot as plt\n",
    "import networkx as nx\n",
    "import time\n",
    "import threading\n",
    "import datetime\n",
    "import multiprocessing as mp\n",
    "from multiprocessing import Process, Manager\n",
    "from itertools import repeat\n",
    "import multiprocessing as mp\n",
    "import os\n",
    "import pprint\n",
    "from magictree import * #tree layout\n",
    "import pickle\n",
    "import sys"
   ]
  },
  {
   "cell_type": "code",
   "execution_count": 2,
   "metadata": {},
   "outputs": [],
   "source": [
    "mimic = sorted(np.load('mimic_sequences.npy'))\n",
    "p2p_jaccard = np.load('p2p_jaccard.npy')\n",
    "p2p_wuplus = np.load('p2p_wuplus.npy')"
   ]
  },
  {
   "cell_type": "code",
   "execution_count": 3,
   "metadata": {},
   "outputs": [],
   "source": [
    "np.random.seed(100)"
   ]
  },
  {
   "cell_type": "markdown",
   "metadata": {},
   "source": [
    "# 1) Select datapoint"
   ]
  },
  {
   "cell_type": "code",
   "execution_count": null,
   "metadata": {},
   "outputs": [],
   "source": [
    "#2519"
   ]
  },
  {
   "cell_type": "code",
   "execution_count": null,
   "metadata": {},
   "outputs": [],
   "source": [
    "i2e_index = 300#np.random.choice(len(mimic))\n",
    "print(i2e_index)\n",
    "i2e = mimic[i2e_index]\n",
    "print(i2e)"
   ]
  },
  {
   "cell_type": "markdown",
   "metadata": {},
   "source": [
    "# 2) Get k REAL neighbours"
   ]
  },
  {
   "cell_type": "code",
   "execution_count": 4,
   "metadata": {},
   "outputs": [],
   "source": [
    "k1 = 50"
   ]
  },
  {
   "cell_type": "code",
   "execution_count": 5,
   "metadata": {},
   "outputs": [],
   "source": [
    "def get_closest_datapoints_indexes(start_index,dist_matrix,k):\n",
    "    candidates = sorted(enumerate(dist_matrix[start_index]),key=lambda x:x[1])[:k]\n",
    "    return list(candidates)"
   ]
  },
  {
   "cell_type": "code",
   "execution_count": null,
   "metadata": {},
   "outputs": [],
   "source": [
    "wup_nbh_indx = [el[0] for el in get_closest_datapoints_indexes(i2e_index,p2p_wuplus,k1)] \n",
    "jac_nbh_indx = [el[0] for el in get_closest_datapoints_indexes(i2e_index,p2p_jaccard,k1)] "
   ]
  },
  {
   "cell_type": "markdown",
   "metadata": {},
   "source": [
    "# 3) Flatten"
   ]
  },
  {
   "cell_type": "code",
   "execution_count": 6,
   "metadata": {},
   "outputs": [],
   "source": [
    "def flat_dp(dp_index):\n",
    "    codes = list(set([a for b in mimic[dp_index][:-1] for a in b]))\n",
    "    fdp = {}\n",
    "    for c in codes:  \n",
    "        seq = [1 if c in el else 0 for el in mimic[dp_index][:-1][::-1]] #already rev\n",
    "        decay = [1/2**i for i in range(1,len(mimic[dp_index]))]\n",
    "        #print(c,seq,decay,np.multiply(seq,decay),sum(np.multiply(seq,decay)))\n",
    "        fdp[c]=sum(np.multiply(seq,decay))\n",
    "    return fdp\n",
    "        \n",
    "def flat_cloud(kdp):\n",
    "    local_flat = [flat_dp(n) for n in kdp]\n",
    "    all_codes = sorted(list(set([a for b in [list(lf.keys()) for lf in local_flat] for a in b])))\n",
    "    feat_mx = np.full((len(kdp),len(all_codes)),0.)\n",
    "    for row,lf in enumerate(local_flat):\n",
    "        for (k,v) in lf.items():\n",
    "            feat_mx[row][all_codes.index(k)]=v\n",
    "    return feat_mx,all_codes\n",
    "    "
   ]
  },
  {
   "cell_type": "code",
   "execution_count": null,
   "metadata": {},
   "outputs": [],
   "source": [
    "wup_nbh_flat,wup_codes = flat_cloud(wup_nbh_indx)\n",
    "jac_nbh_flat,jac_codes = flat_cloud(jac_nbh_indx)"
   ]
  },
  {
   "cell_type": "markdown",
   "metadata": {},
   "source": [
    "# 4) Make ksyn synthetic datapoints"
   ]
  },
  {
   "cell_type": "code",
   "execution_count": 7,
   "metadata": {},
   "outputs": [],
   "source": [
    "k2 = 20"
   ]
  },
  {
   "cell_type": "code",
   "execution_count": 8,
   "metadata": {},
   "outputs": [],
   "source": [
    "def perturb(flat_k,points_per_dp=k2):\n",
    "    num_codes = flat_k.shape[1]\n",
    "    feat_mx = np.full((k1*k2,num_codes),0.)\n",
    "    for f in range(num_codes):\n",
    "        feat_mean = np.mean(flat_k[:,f])\n",
    "        feat_std = np.std(flat_k[:,f])\n",
    "        feat_mx[:,f]=np.random.normal(feat_mean,feat_std,k1*k2)\n",
    "    feat_mx[feat_mx<0.]=0.\n",
    "    feat_mx[feat_mx>1.]=1.\n",
    "    return feat_mx"
   ]
  },
  {
   "cell_type": "code",
   "execution_count": null,
   "metadata": {},
   "outputs": [],
   "source": [
    "wup_syn_flat = perturb(wup_nbh_flat)\n",
    "jac_syn_flat = perturb(jac_nbh_flat)"
   ]
  },
  {
   "cell_type": "markdown",
   "metadata": {},
   "source": [
    "# 5) Unflatten"
   ]
  },
  {
   "cell_type": "code",
   "execution_count": 9,
   "metadata": {},
   "outputs": [],
   "source": [
    "max_past = max([len(x) for x in mimic])\n",
    "past_mean = np.mean([len(x) for x in mimic])\n",
    "past_std = np.std([len(x) for x in mimic])"
   ]
  },
  {
   "cell_type": "code",
   "execution_count": 10,
   "metadata": {},
   "outputs": [],
   "source": [
    "def unflat_cloud(cloud,code_list):\n",
    "    res = []\n",
    "    for dp in cloud: #iterate over synthetic datapoints\n",
    "        dp_mx = np.full((len(code_list),max_past),0) #codes * visits\n",
    "        for col,temp_val in enumerate(dp):\n",
    "            check = .5\n",
    "            for visit_index in range(max_past-1,-1,-1):\n",
    "                if temp_val>=check:\n",
    "                    dp_mx[col,visit_index]=1\n",
    "                    temp_val-=check\n",
    "                check/=2\n",
    "            #dp_mx matrix filled with values\n",
    "        raw_seq = [[code_list[c] for c in range(dp_mx.shape[0]) if dp_mx[c,v]==1] for v in range(dp_mx.shape[1])]#\n",
    "        num_visit = max(1,int(np.ceil(np.random.normal(past_mean,past_std))))\n",
    "        res.append(raw_seq[-num_visit:])\n",
    "    return res"
   ]
  },
  {
   "cell_type": "code",
   "execution_count": null,
   "metadata": {},
   "outputs": [],
   "source": [
    "wup_syn_seq = unflat_cloud(wup_syn_flat,wup_codes)\n",
    "jac_syn_seq = unflat_cloud(jac_syn_flat,jac_codes)"
   ]
  },
  {
   "cell_type": "markdown",
   "metadata": {},
   "source": [
    "# 6) [toy] caching"
   ]
  },
  {
   "cell_type": "code",
   "execution_count": null,
   "metadata": {},
   "outputs": [],
   "source": [
    "mega_dict = {}\n",
    "mega_dict[(i2e_index,'jac')] = (jac_nbh_indx,jac_nbh_flat,jac_syn_flat,jac_syn_seq)\n",
    "mega_dict[(i2e_index,'wup')] = (wup_nbh_indx,wup_nbh_flat,wup_syn_flat,wup_syn_seq)\n",
    "pickle.dump(mega_dict,open('mimic_cache.pkl','wb'),protocol=pickle.HIGHEST_PROTOCOL)"
   ]
  },
  {
   "cell_type": "code",
   "execution_count": null,
   "metadata": {},
   "outputs": [],
   "source": [
    "test = pickle.load(open('mimic_cache.pkl','rb'))\n",
    "print(test.keys())"
   ]
  },
  {
   "cell_type": "markdown",
   "metadata": {},
   "source": [
    "# 7) MEGALOOP"
   ]
  },
  {
   "cell_type": "code",
   "execution_count": 11,
   "metadata": {},
   "outputs": [
    {
     "data": {
      "text/plain": [
       "7499"
      ]
     },
     "execution_count": 11,
     "metadata": {},
     "output_type": "execute_result"
    }
   ],
   "source": [
    "len(mimic)"
   ]
  },
  {
   "cell_type": "code",
   "execution_count": 12,
   "metadata": {},
   "outputs": [
    {
     "name": "stdout",
     "output_type": "stream",
     "text": [
      "0 Thu Jul 18 12:38:04 2019\n",
      "100 Thu Jul 18 12:54:36 2019\n",
      "200 Thu Jul 18 13:10:22 2019\n",
      "300 Thu Jul 18 13:26:21 2019\n",
      "400 Thu Jul 18 13:41:59 2019\n",
      "500 Thu Jul 18 13:56:54 2019\n",
      "600 Thu Jul 18 14:10:01 2019\n",
      "700 Thu Jul 18 14:22:25 2019\n",
      "800 Thu Jul 18 14:35:53 2019\n",
      "900 Thu Jul 18 14:48:00 2019\n",
      "1000 Thu Jul 18 14:59:48 2019\n",
      "1100 Thu Jul 18 15:14:52 2019\n",
      "1200 Thu Jul 18 15:28:13 2019\n",
      "1300 Thu Jul 18 15:41:29 2019\n",
      "1400 Thu Jul 18 15:56:00 2019\n",
      "1500 Thu Jul 18 16:09:47 2019\n",
      "1600 Thu Jul 18 16:22:47 2019\n",
      "1700 Thu Jul 18 16:34:49 2019\n",
      "1800 Thu Jul 18 16:48:14 2019\n",
      "1900 Thu Jul 18 16:57:44 2019\n",
      "2000 Thu Jul 18 17:07:35 2019\n",
      "2100 Thu Jul 18 17:16:56 2019\n",
      "2200 Thu Jul 18 17:28:53 2019\n",
      "2300 Thu Jul 18 17:40:00 2019\n",
      "2400 Thu Jul 18 17:48:44 2019\n",
      "2500 Thu Jul 18 17:57:36 2019\n",
      "2600 Thu Jul 18 18:07:42 2019\n",
      "2700 Thu Jul 18 18:19:54 2019\n",
      "2800 Thu Jul 18 18:31:54 2019\n",
      "2900 Thu Jul 18 18:44:36 2019\n",
      "3000 Thu Jul 18 18:55:14 2019\n",
      "3100 Thu Jul 18 19:06:45 2019\n",
      "3200 Thu Jul 18 19:19:05 2019\n",
      "3300 Thu Jul 18 19:31:59 2019\n",
      "3400 Thu Jul 18 19:44:10 2019\n",
      "3500 Thu Jul 18 19:59:08 2019\n",
      "3600 Thu Jul 18 20:09:27 2019\n",
      "3700 Thu Jul 18 20:20:35 2019\n",
      "3800 Thu Jul 18 20:30:59 2019\n",
      "3900 Thu Jul 18 20:42:21 2019\n",
      "4000 Thu Jul 18 20:53:03 2019\n",
      "4100 Thu Jul 18 21:05:17 2019\n",
      "4200 Thu Jul 18 21:17:15 2019\n",
      "4300 Thu Jul 18 21:30:05 2019\n",
      "4400 Thu Jul 18 21:44:15 2019\n",
      "4500 Thu Jul 18 21:58:22 2019\n",
      "4600 Thu Jul 18 22:11:53 2019\n",
      "4700 Thu Jul 18 22:25:16 2019\n",
      "4800 Thu Jul 18 22:39:22 2019\n",
      "4900 Thu Jul 18 22:53:22 2019\n",
      "5000 Thu Jul 18 23:06:18 2019\n",
      "5100 Thu Jul 18 23:19:19 2019\n",
      "5200 Thu Jul 18 23:33:02 2019\n",
      "5300 Thu Jul 18 23:47:01 2019\n",
      "5400 Fri Jul 19 00:00:22 2019\n",
      "5500 Fri Jul 19 00:14:00 2019\n",
      "5600 Fri Jul 19 00:27:01 2019\n",
      "5700 Fri Jul 19 00:40:47 2019\n",
      "5800 Fri Jul 19 00:54:26 2019\n",
      "5900 Fri Jul 19 01:07:19 2019\n",
      "6000 Fri Jul 19 01:22:09 2019\n",
      "6100 Fri Jul 19 01:36:37 2019\n",
      "6200 Fri Jul 19 01:51:05 2019\n",
      "6300 Fri Jul 19 02:03:31 2019\n",
      "6400 Fri Jul 19 02:16:32 2019\n",
      "6500 Fri Jul 19 02:31:11 2019\n",
      "6600 Fri Jul 19 02:44:17 2019\n",
      "6700 Fri Jul 19 02:56:04 2019\n",
      "6800 Fri Jul 19 03:09:43 2019\n",
      "6900 Fri Jul 19 03:23:19 2019\n",
      "7000 Fri Jul 19 03:37:42 2019\n",
      "7100 Fri Jul 19 03:50:39 2019\n",
      "7200 Fri Jul 19 04:04:34 2019\n",
      "7300 Fri Jul 19 04:13:09 2019\n",
      "7400 Fri Jul 19 04:15:21 2019\n"
     ]
    }
   ],
   "source": [
    "jac_dict = {}\n",
    "wup_dict = {}\n",
    "\n",
    "for indx in range(len(mimic)):\n",
    "    if indx%100==0:\n",
    "        print(indx,time.ctime())\n",
    "    try:\n",
    "        i2e = mimic[indx]\n",
    "        wup_nbh_indx = [el[0] for el in get_closest_datapoints_indexes(indx,p2p_wuplus,k1)] \n",
    "        jac_nbh_indx = [el[0] for el in get_closest_datapoints_indexes(indx,p2p_jaccard,k1)] \n",
    "        wup_nbh_flat,wup_codes = flat_cloud(wup_nbh_indx)\n",
    "        jac_nbh_flat,jac_codes = flat_cloud(jac_nbh_indx)\n",
    "        wup_syn_flat = perturb(wup_nbh_flat)\n",
    "        jac_syn_flat = perturb(jac_nbh_flat)\n",
    "        wup_syn_seq = unflat_cloud(wup_syn_flat,wup_codes)#\n",
    "        jac_syn_seq = unflat_cloud(jac_syn_flat,jac_codes)  \n",
    "        wup_dict[indx] = (wup_nbh_indx,wup_nbh_flat,wup_syn_flat,wup_syn_seq)\n",
    "        jac_dict[indx] = (jac_nbh_indx,jac_nbh_flat,jac_syn_flat,jac_syn_seq)\n",
    "    except Exception as ex:\n",
    "        print('FUCKUP',indx)"
   ]
  },
  {
   "cell_type": "code",
   "execution_count": 13,
   "metadata": {},
   "outputs": [],
   "source": [
    "missed = []\n",
    "for i in range(len(mimic)):\n",
    "    try:\n",
    "        wup_dict[i]\n",
    "        jac_dict[i]\n",
    "    except:\n",
    "        missed.append(i)"
   ]
  },
  {
   "cell_type": "code",
   "execution_count": 14,
   "metadata": {},
   "outputs": [
    {
     "data": {
      "text/plain": [
       "array([], dtype=float64)"
      ]
     },
     "execution_count": 14,
     "metadata": {},
     "output_type": "execute_result"
    }
   ],
   "source": [
    "np.array(missed)"
   ]
  },
  {
   "cell_type": "code",
   "execution_count": 15,
   "metadata": {},
   "outputs": [],
   "source": [
    "pickle.dump(jac_dict,open('/data/big/perotti/jac_cache_2.pkl','wb'),protocol=pickle.HIGHEST_PROTOCOL)    "
   ]
  },
  {
   "cell_type": "code",
   "execution_count": 16,
   "metadata": {},
   "outputs": [],
   "source": [
    "pickle.dump(wup_dict,open('/data/big/perotti/wup_cache_2.pkl','wb'),protocol=pickle.HIGHEST_PROTOCOL)    "
   ]
  },
  {
   "cell_type": "code",
   "execution_count": 17,
   "metadata": {},
   "outputs": [
    {
     "data": {
      "text/plain": [
       "7499"
      ]
     },
     "execution_count": 17,
     "metadata": {},
     "output_type": "execute_result"
    }
   ],
   "source": [
    "len(list(pickle.load(open('/data/big/perotti/jac_cache_2.pkl','rb')).keys()))\n",
    "#pickle.load(open('/data/big/perotti/wup_cache.pkl','rb'))[0]"
   ]
  },
  {
   "cell_type": "code",
   "execution_count": 18,
   "metadata": {},
   "outputs": [
    {
     "data": {
      "text/plain": [
       "7499"
      ]
     },
     "execution_count": 18,
     "metadata": {},
     "output_type": "execute_result"
    }
   ],
   "source": [
    "len(list(pickle.load(open('/data/big/perotti/wup_cache_2.pkl','rb')).keys()))"
   ]
  }
 ],
 "metadata": {
  "kernelspec": {
   "display_name": "Python 3",
   "language": "python",
   "name": "python3"
  },
  "language_info": {
   "codemirror_mode": {
    "name": "ipython",
    "version": 3
   },
   "file_extension": ".py",
   "mimetype": "text/x-python",
   "name": "python",
   "nbconvert_exporter": "python",
   "pygments_lexer": "ipython3",
   "version": "3.6.5"
  }
 },
 "nbformat": 4,
 "nbformat_minor": 2
}
