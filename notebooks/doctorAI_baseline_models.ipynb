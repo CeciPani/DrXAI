{
 "cells": [
  {
   "cell_type": "markdown",
   "metadata": {},
   "source": [
    "# Baseline models"
   ]
  },
  {
   "cell_type": "code",
   "execution_count": 28,
   "metadata": {},
   "outputs": [],
   "source": [
    "import numpy as np\n",
    "import random\n",
    "from collections import Counter"
   ]
  },
  {
   "cell_type": "code",
   "execution_count": 81,
   "metadata": {},
   "outputs": [],
   "source": [
    "path = '/home/user/venvs/doctorAI/MIMICIII_data/'\n",
    "output_path = '/home/user/venvs/drAI+/drAIplus/models/doctorAI_py3/'"
   ]
  },
  {
   "cell_type": "code",
   "execution_count": 3,
   "metadata": {},
   "outputs": [],
   "source": [
    "import pickle\n",
    "\n",
    "visit_file = pickle.load( open(path+'visit_complete', 'rb') )\n",
    "label_file = pickle.load( open(path+'label_complete', 'rb') )"
   ]
  },
  {
   "cell_type": "markdown",
   "metadata": {},
   "source": [
    "### Frequency baselines. \n",
    "\n",
    "We compare our algorithms against simple baselines that are based on experts’ intuition about the dynamics of events in clinical settings. \n",
    "\n",
    "* The first baseline uses a patient’s medical codes in the last visit as the prediction for the current visit. This baseline is competitive when the status of a patient with a chronic condition stabilizes over time. \n",
    "* We enhanced this baseline using the top-k most frequent labels observed in visits prior to the current visits. In the experiments we observe that the baseline of top-k most frequent labels is quite competitive.\n",
    "\n",
    "top-k recall = $\\frac{\\text{# of true positives in the top k predictions}}{\\text{# of true positives}}$\n",
    "\n",
    "\n",
    "Recall multilabel (https://stackoverflow.com/questions/9004172/precision-recall-for-multiclass-multilabel-classification):\n",
    "\n",
    "The ratio of how many of the actual labels were predicted. The numerator finds how many labels in the predicted vector has common with the ground truth (as above), then finds the ratio to the number of actual labels, therefore getting what fraction of the actual labels were predicted."
   ]
  },
  {
   "cell_type": "code",
   "execution_count": 4,
   "metadata": {},
   "outputs": [],
   "source": [
    "def multi_label_recall(Y_true, Y_pred):\n",
    "    #quanti sono gli items comuni tra predizione e truth?\n",
    "    #quanti sono gli items che dovevo indovinare (lunghezza del vettore truth)?\n",
    "    #divido il numero di items comuni per il numero di items che avrei dovuto azzeccare\n",
    "    recall = []\n",
    "    for y_true, y_pred in zip(Y_true,Y_pred):\n",
    "        patient_recall = len(set(y_pred).intersection(set(y_true)))*1./len(set(y_true))\n",
    "        recall.append(patient_recall)\n",
    "    return np.mean(recall)"
   ]
  },
  {
   "cell_type": "code",
   "execution_count": 5,
   "metadata": {},
   "outputs": [],
   "source": [
    "def recallTop(y_true, y_pred, rank=[10, 20, 30]):\n",
    "    recall = list()\n",
    "    for i in range(len(y_pred)):\n",
    "        thisOne = list()\n",
    "        codes = y_true[i]\n",
    "        tops = y_pred[i]\n",
    "        for rk in rank:\n",
    "            thisOne.append(len(set(codes).intersection(set(tops[:rk])))*1.0/len(set(codes)))\n",
    "        recall.append( thisOne )\n",
    "    return (np.array(recall)).mean(axis=0).tolist()"
   ]
  },
  {
   "cell_type": "markdown",
   "metadata": {},
   "source": [
    "#### Last visit is current visit"
   ]
  },
  {
   "cell_type": "code",
   "execution_count": 6,
   "metadata": {},
   "outputs": [],
   "source": [
    "#last visit codes, this time codes\n",
    "y_true = []\n",
    "y_pred = []\n",
    "\n",
    "for patient in label_file:\n",
    "    n_visits = len(patient)\n",
    "    current_visit = patient[n_visits-1]\n",
    "    last_visit = patient[n_visits-2]\n",
    "    y_true.append(current_visit)\n",
    "    y_pred.append(last_visit)"
   ]
  },
  {
   "cell_type": "code",
   "execution_count": 7,
   "metadata": {},
   "outputs": [
    {
     "data": {
      "text/plain": [
       "0.44887523562649606"
      ]
     },
     "execution_count": 7,
     "metadata": {},
     "output_type": "execute_result"
    }
   ],
   "source": [
    "multi_label_recall(y_true,y_pred)"
   ]
  },
  {
   "cell_type": "markdown",
   "metadata": {},
   "source": [
    "#### Most frequent"
   ]
  },
  {
   "cell_type": "code",
   "execution_count": 8,
   "metadata": {},
   "outputs": [],
   "source": [
    "#top k most frequent labels in prior visits"
   ]
  },
  {
   "cell_type": "code",
   "execution_count": 9,
   "metadata": {},
   "outputs": [],
   "source": [
    "y_pred = []\n",
    "for patient in label_file:\n",
    "    tops = sorted([x for x in set([a for b in patient[:-1] for a in b])],key=lambda y: ([a for b in patient[:-1] for a in b].count(y),y),reverse=True)\n",
    "    y_pred.append(tops)"
   ]
  },
  {
   "cell_type": "code",
   "execution_count": 10,
   "metadata": {},
   "outputs": [
    {
     "data": {
      "text/plain": [
       "[0.3828614784432503, 0.4732631519257384, 0.4909308495553468]"
      ]
     },
     "execution_count": 10,
     "metadata": {},
     "output_type": "execute_result"
    }
   ],
   "source": [
    "recallTop(y_true, y_pred)"
   ]
  },
  {
   "cell_type": "code",
   "execution_count": null,
   "metadata": {},
   "outputs": [],
   "source": []
  },
  {
   "cell_type": "code",
   "execution_count": null,
   "metadata": {},
   "outputs": [],
   "source": []
  },
  {
   "cell_type": "code",
   "execution_count": null,
   "metadata": {},
   "outputs": [],
   "source": []
  },
  {
   "cell_type": "markdown",
   "metadata": {},
   "source": [
    "### Random models\n",
    "Let's see doctorAI performances on random patients"
   ]
  },
  {
   "cell_type": "code",
   "execution_count": 67,
   "metadata": {},
   "outputs": [
    {
     "data": {
      "text/plain": [
       "4879"
      ]
     },
     "execution_count": 67,
     "metadata": {},
     "output_type": "execute_result"
    }
   ],
   "source": [
    "pippo = [a for b in visit_file for a in b]\n",
    "max([a for b in pippo for a in b])"
   ]
  },
  {
   "cell_type": "code",
   "execution_count": 55,
   "metadata": {},
   "outputs": [],
   "source": [
    "#voglio generare pazienti sintetici che abbiano senso, almeno a grandi linee\n",
    "#genero pazienti con un numero di visite sensato (sample from population with replacement)\n",
    "#genero visite con un numero sensato di codici\n",
    "\n",
    "#numero reale di visite per paziente\n",
    "n_patients_visit = [len(patient) for patient in visit_file]\n",
    "#numero reale di codici per visita \n",
    "n_codes_in_visit = [len(visit) for visit in patient for patient in visit_file]"
   ]
  },
  {
   "cell_type": "code",
   "execution_count": 75,
   "metadata": {},
   "outputs": [],
   "source": [
    "#genero pazienti con un numero di visite sensato, ma con codici a caso tra 0 a 4880 estratti con probabilità uniforme\n",
    "\n",
    "#per ogni paziente\n",
    "n_random_patients = 8000\n",
    "random_patients = []\n",
    "for i in np.arange(n_random_patients):\n",
    "    random_patient = []\n",
    "    #genero un numero di visite sensato\n",
    "    random_visit_len = random.choices(n_patients_visit,k=1)[0]\n",
    "    random_visits = []\n",
    "    for j in np.arange(random_visit_len):\n",
    "        random_codes_len = random.choices(n_codes_in_visit,k=1)[0]\n",
    "        random_visits.append(random.choices(np.arange(0,4880),k=random_codes_len))\n",
    "    random_patient.append(random_visits)\n",
    "    \n",
    "    random_patients.append(random_patient)"
   ]
  },
  {
   "cell_type": "code",
   "execution_count": 82,
   "metadata": {},
   "outputs": [],
   "source": [
    "pickle.dump(random_patients, open(output_path+'fake_visit.test', 'wb'), protocol=-1)"
   ]
  },
  {
   "cell_type": "code",
   "execution_count": null,
   "metadata": {},
   "outputs": [],
   "source": []
  },
  {
   "cell_type": "code",
   "execution_count": null,
   "metadata": {},
   "outputs": [],
   "source": []
  },
  {
   "cell_type": "code",
   "execution_count": null,
   "metadata": {},
   "outputs": [],
   "source": []
  }
 ],
 "metadata": {
  "kernelspec": {
   "display_name": "Python 3",
   "language": "python",
   "name": "python3"
  },
  "language_info": {
   "codemirror_mode": {
    "name": "ipython",
    "version": 3
   },
   "file_extension": ".py",
   "mimetype": "text/x-python",
   "name": "python",
   "nbconvert_exporter": "python",
   "pygments_lexer": "ipython3",
   "version": "3.6.6"
  }
 },
 "nbformat": 4,
 "nbformat_minor": 2
}
